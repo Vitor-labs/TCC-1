{
 "cells": [
  {
   "cell_type": "code",
   "execution_count": 1,
   "metadata": {},
   "outputs": [],
   "source": [
    "from bayes_opt import BayesianOptimization\n",
    "from bayes_opt.event import Events\n",
    "from bayes_opt.logger import JSONLogger\n",
    "from numpy import where\n",
    "from pandas import DataFrame, Series, concat, read_csv\n",
    "from sklearn.metrics import f1_score\n",
    "from sklearn.svm import OneClassSVM\n",
    "\n",
    "logger = JSONLogger(path=\"../reports/logs.log\")"
   ]
  },
  {
   "cell_type": "code",
   "execution_count": 2,
   "metadata": {},
   "outputs": [],
   "source": [
    "X_train = read_csv(\"../data/PAMAP2/x_train_data.csv\")\n",
    "X_test = read_csv(\"../data/PAMAP2/x_test_data.csv\")\n",
    "y_train = read_csv(\"../data/PAMAP2/y_train_data.csv\")\n",
    "y_test = read_csv(\"../data/PAMAP2/y_test_data.csv\")\n",
    "\n",
    "X_train[\"activity\"] = y_train  # First 80% of the data\n",
    "X_test[\"activity\"] = y_test  # Last 20% of the data\n",
    "\n",
    "models: dict[int, OneClassSVM] = {}\n",
    "training_data: DataFrame\n",
    "testing_data: DataFrame\n",
    "train_targets: Series\n",
    "test_targets: Series"
   ]
  },
  {
   "cell_type": "code",
   "execution_count": 3,
   "metadata": {},
   "outputs": [],
   "source": [
    "def objective_function(nu: float, gamma: float) -> float:\n",
    "    \"\"\"\n",
    "    Objective function to optimize F1-Score on the test set.\n",
    "\n",
    "    Args:\n",
    "        nu (float): nu param to evaluate.\n",
    "        gamma (float): gamma param to evaluate.\n",
    "\n",
    "    Returns:\n",
    "        float: F1-Score on the test set of this iteration.\n",
    "    \"\"\"\n",
    "    oc_svm = OneClassSVM(kernel=\"rbf\", nu=nu, gamma=gamma).fit(training_data)\n",
    "\n",
    "    f1_train = f1_score(\n",
    "        train_targets,\n",
    "        y_pred_train := where(oc_svm.predict(training_data) == 1, False, True),\n",
    "        average=\"macro\",\n",
    "    )\n",
    "    f1_test = f1_score(\n",
    "        test_targets,\n",
    "        y_pred_test := where(oc_svm.predict(testing_data) == 1, False, True),\n",
    "        average=\"macro\",\n",
    "    )\n",
    "    print(\n",
    "        f\"\\nF1 Score (Train): {f1_train}\"\n",
    "        f\"\\nF1 Score (Test): {f1_test}\"\n",
    "        f\"\\nErrors in Train {y_pred_train[y_pred_train is False].size}\"\n",
    "        f\"\\nErrors in Test {y_pred_test[y_pred_test is False].size}\"\n",
    "    )\n",
    "    return float(f1_test)"
   ]
  },
  {
   "cell_type": "code",
   "execution_count": 4,
   "metadata": {},
   "outputs": [
    {
     "name": "stdout",
     "output_type": "stream",
     "text": [
      "Activity: 1\n"
     ]
    }
   ],
   "source": [
    "for activity in X_train[\"activity\"].unique():\n",
    "    print(f\"Activity: {activity}\")\n",
    "    novelty: DataFrame = X_train[X_train[\"activity\"] == activity].copy()\n",
    "    current_data: DataFrame = X_train[~X_train.index.isin(novelty.index)].copy()\n",
    "\n",
    "    current_data.loc[:, \"isNovelty\"], novelty.loc[:, \"isNovelty\"] = False, True\n",
    "\n",
    "    training_data = current_data.drop(columns=[\"isNovelty\"])\n",
    "    train_targets = current_data[\"isNovelty\"]\n",
    "\n",
    "    sampled_data = current_data.sample(n=int(0.2 * len(current_data)), random_state=42)\n",
    "    sampled_data[\"isNovelty\"] = 0\n",
    "    novelty = concat([novelty, sampled_data])\n",
    "\n",
    "    # only current activity (as novelty)\n",
    "    testing_data = novelty.drop(columns=[\"isNovelty\"])\n",
    "    test_targets = novelty[\"isNovelty\"]\n",
    "\n",
    "    optimizer = BayesianOptimization(\n",
    "        f=objective_function,\n",
    "        pbounds={\"nu\": (0.01, 0.5), \"gamma\": (1e-4, 1e-1)},\n",
    "        random_state=42,\n",
    "    )\n",
    "    optimizer.subscribe(Events.OPTIMIZATION_STEP, logger)\n",
    "    optimizer.maximize(init_points=5, n_iter=25)\n",
    "\n",
    "    models[activity] = optimizer.max"
   ]
  }
 ],
 "metadata": {
  "kernelspec": {
   "display_name": "TCC-1-pCv1QtoV",
   "language": "python",
   "name": "python3"
  },
  "language_info": {
   "codemirror_mode": {
    "name": "ipython",
    "version": 3
   },
   "file_extension": ".py",
   "mimetype": "text/x-python",
   "name": "python",
   "nbconvert_exporter": "python",
   "pygments_lexer": "ipython3",
   "version": "3.10.10"
  }
 },
 "nbformat": 4,
 "nbformat_minor": 2
}
