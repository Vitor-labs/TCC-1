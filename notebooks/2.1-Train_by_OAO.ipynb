{
 "cells": [
  {
   "cell_type": "code",
   "execution_count": 6,
   "metadata": {},
   "outputs": [],
   "source": [
    "from numpy import where\n",
    "from pandas import DataFrame, read_csv\n",
    "from sklearn.metrics import f1_score\n",
    "from sklearn.svm import OneClassSVM\n",
    "\n",
    "X_train = read_csv(\"../data/PAMAP2/x_train_data.csv\")\n",
    "X_test = read_csv(\"../data/PAMAP2/x_test_data.csv\")\n",
    "y_train = read_csv(\"../data/PAMAP2/y_train_data.csv\")\n",
    "y_test = read_csv(\"../data/PAMAP2/y_test_data.csv\")"
   ]
  },
  {
   "cell_type": "code",
   "execution_count": 7,
   "metadata": {},
   "outputs": [],
   "source": [
    "X_train[\"activity\"] = y_train  # First 80% of the data\n",
    "X_test[\"activity\"] = y_test  # Last 20% of the data"
   ]
  },
  {
   "cell_type": "code",
   "execution_count": 8,
   "metadata": {},
   "outputs": [],
   "source": [
    "def train_svm_for_activity(\n",
    "    current_data: DataFrame, novelty: DataFrame, activity: int\n",
    ") -> OneClassSVM:\n",
    "    X_train = current_data.drop(columns=[\"isNovelty\"])\n",
    "    y_train = current_data[\"isNovelty\"]\n",
    "\n",
    "    # only current activity (as novelty)\n",
    "    X_test = novelty.drop(columns=[\"isNovelty\"])\n",
    "    y_test = novelty[\"isNovelty\"]\n",
    "\n",
    "    oc_svm = OneClassSVM(kernel=\"rbf\").fit(X_train)\n",
    "\n",
    "    y_pred_train = where(oc_svm.predict(X_train) == 1, False, True)\n",
    "    y_pred_test = where(oc_svm.predict(X_test) == 1, False, True)\n",
    "\n",
    "    print(\n",
    "        f\"Activity: {activity}\"\n",
    "        f\"\\nF1 Score (Train): {f1_score(y_train, y_pred_train, pos_label=True)}\"\n",
    "        f\"\\nF1 Score (Test): {f1_score(y_test, y_pred_test, pos_label=True)}\"\n",
    "        f\"Errors in Train {y_pred_train[y_pred_train == -1].size}\"\n",
    "        f\"Errors in Train {y_pred_test[y_pred_test == -1].size}\"\n",
    "    )\n",
    "    return oc_svm"
   ]
  },
  {
   "cell_type": "code",
   "execution_count": 10,
   "metadata": {},
   "outputs": [
    {
     "name": "stderr",
     "output_type": "stream",
     "text": [
      "C:\\Users\\VDUART10\\AppData\\Local\\Temp\\ipykernel_9164\\3505400307.py:7: SettingWithCopyWarning: \n",
      "A value is trying to be set on a copy of a slice from a DataFrame.\n",
      "Try using .loc[row_indexer,col_indexer] = value instead\n",
      "\n",
      "See the caveats in the documentation: https://pandas.pydata.org/pandas-docs/stable/user_guide/indexing.html#returning-a-view-versus-a-copy\n",
      "  current_data.loc[:, \"isNovelty\"], novelty.loc[:, \"isNovelty\"] = False, True\n",
      "C:\\Users\\VDUART10\\AppData\\Local\\Temp\\ipykernel_9164\\3505400307.py:7: SettingWithCopyWarning: \n",
      "A value is trying to be set on a copy of a slice from a DataFrame.\n",
      "Try using .loc[row_indexer,col_indexer] = value instead\n",
      "\n",
      "See the caveats in the documentation: https://pandas.pydata.org/pandas-docs/stable/user_guide/indexing.html#returning-a-view-versus-a-copy\n",
      "  current_data.loc[:, \"isNovelty\"], novelty.loc[:, \"isNovelty\"] = False, True\n"
     ]
    },
    {
     "name": "stdout",
     "output_type": "stream",
     "text": [
      "Activity: 1, F1 Score: 1.0\n"
     ]
    }
   ],
   "source": [
    "models: dict[int, OneClassSVM] = {}\n",
    "\n",
    "for activity in X_train[\"activity\"].unique():\n",
    "    novelty = X_train[X_train[\"activity\"] == activity].copy()\n",
    "    current_data = X_train[~X_train.index.isin(novelty.index)].copy()\n",
    "\n",
    "    current_data.loc[:, \"isNovelty\"], novelty.loc[:, \"isNovelty\"] = False, True\n",
    "    oc_svm = train_svm_for_activity(current_data, novelty, activity)\n",
    "\n",
    "    models[activity] = oc_svm"
   ]
  }
 ],
 "metadata": {
  "kernelspec": {
   "display_name": "TCC-1-UdWnfjK3",
   "language": "python",
   "name": "python3"
  },
  "language_info": {
   "codemirror_mode": {
    "name": "ipython",
    "version": 3
   },
   "file_extension": ".py",
   "mimetype": "text/x-python",
   "name": "python",
   "nbconvert_exporter": "python",
   "pygments_lexer": "ipython3",
   "version": "3.10.10"
  }
 },
 "nbformat": 4,
 "nbformat_minor": 2
}
