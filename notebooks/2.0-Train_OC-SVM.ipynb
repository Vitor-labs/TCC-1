{
 "cells": [
  {
   "cell_type": "code",
   "execution_count": null,
   "metadata": {},
   "outputs": [],
   "source": [
    "import numpy as np\n",
    "from pandas import read_csv\n",
    "from sklearn.metrics import f1_score, make_scorer\n",
    "from sklearn.model_selection import GridSearchCV, RandomizedSearchCV\n",
    "from sklearn.svm import OneClassSVM"
   ]
  },
  {
   "cell_type": "code",
   "execution_count": null,
   "metadata": {},
   "outputs": [],
   "source": [
    "X_train = read_csv(\"../data/PAMAP2/x_train_data.csv\")\n",
    "X_test = read_csv(\"../data/PAMAP2/x_test_data.csv\")\n",
    "y_train = read_csv(\"../data/PAMAP2/y_train_data.csv\")\n",
    "y_test = read_csv(\"../data/PAMAP2/y_test_data.csv\")\n",
    "\n",
    "X_train[\"activity\"] = y_train  # First 80% of the data\n",
    "X_test[\"activity\"] = y_test  # Last 20% of the data\n",
    "\n",
    "MIN_SAMPLES = X_train[\"activity\"].value_counts().sort_values().iloc[3]"
   ]
  },
  {
   "cell_type": "code",
   "execution_count": null,
   "metadata": {},
   "outputs": [],
   "source": [
    "def score_function(model: OneClassSVM, X_train, y_true) -> float:\n",
    "    return float(f1_score(np.ones(len(y_true)), model.predict(X_train), pos_label=1))"
   ]
  },
  {
   "cell_type": "code",
   "execution_count": null,
   "metadata": {},
   "outputs": [],
   "source": [
    "grid_search: GridSearchCV[OneClassSVM] = GridSearchCV(\n",
    "    estimator=OneClassSVM(kernel=\"rbf\"),\n",
    "    param_grid={\n",
    "        \"nu\": [0.01, 0.05, 0.1, 0.2, 0.3, 0.5],\n",
    "        \"gamma\": [0.001, 0.01, 0.1, 0.5, 1],\n",
    "    },\n",
    "    scoring=make_scorer(score_func=score_function),\n",
    "    n_jobs=-1,\n",
    "    verbose=3,\n",
    "    cv=5,\n",
    ").fit(X_train)"
   ]
  },
  {
   "cell_type": "code",
   "execution_count": null,
   "metadata": {},
   "outputs": [],
   "source": [
    "random_search = RandomizedSearchCV(\n",
    "    estimator=OneClassSVM(kernel=\"rbf\"),\n",
    "    param_distributions={\n",
    "        \"nu\": [0.01, 0.025, 0.05, 0.1, 0.2, 0.3, 0.5],\n",
    "        \"gamma\": [0.001, 0.01, 0.025, 0.1, 0.25, 0.5, 1],\n",
    "    },\n",
    "    n_iter=30,\n",
    "    scoring=make_scorer(score_func=score_function),\n",
    "    n_jobs=-1,\n",
    "    cv=5,\n",
    "    verbose=3,\n",
    "    random_state=42,\n",
    ").fit(X_train)"
   ]
  },
  {
   "cell_type": "code",
   "execution_count": null,
   "metadata": {},
   "outputs": [],
   "source": [
    "print(\"Grid Search Best Params:\", grid_search.best_params_)\n",
    "print(\"Random Search Best Params:\", random_search.best_params_)"
   ]
  }
 ],
 "metadata": {
  "kernelspec": {
   "display_name": "TCC-1-pCv1QtoV",
   "language": "python",
   "name": "python3"
  },
  "language_info": {
   "codemirror_mode": {
    "name": "ipython",
    "version": 3
   },
   "file_extension": ".py",
   "mimetype": "text/x-python",
   "name": "python",
   "nbconvert_exporter": "python",
   "pygments_lexer": "ipython3",
   "version": "3.10.10"
  }
 },
 "nbformat": 4,
 "nbformat_minor": 2
}
