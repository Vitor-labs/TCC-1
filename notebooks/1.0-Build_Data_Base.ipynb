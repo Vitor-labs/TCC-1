{
 "cells": [
  {
   "cell_type": "code",
   "execution_count": 1,
   "metadata": {},
   "outputs": [],
   "source": [
    "import os\n",
    "\n",
    "from pandas import DataFrame, Series, read_csv, set_option, concat\n",
    "\n",
    "set_option('display.max_columns', None)\n",
    "\n",
    "def read_w_log(path: str, filename: str) -> tuple[DataFrame, str]:\n",
    "    print('reading', filename)\n",
    "    return (\n",
    "        read_csv(\n",
    "            os.path.join(path, filename),\n",
    "            sep='\\s+',\n",
    "            header=None\n",
    "        ),\n",
    "        filename.split('.')[0][-2:]\n",
    "    )"
   ]
  },
  {
   "cell_type": "code",
   "execution_count": 2,
   "metadata": {},
   "outputs": [],
   "source": [
    "def load_data(path: str, test_size: float = 0.2) -> tuple[DataFrame, DataFrame, DataFrame, DataFrame]:\n",
    "    train_data, test_data, train_targets, test_targets = [], [], [], []\n",
    "    for df, subject in [\n",
    "        read_w_log(path, filename)\n",
    "        for filename in os.listdir(path)\n",
    "        if filename.endswith('.dat')\n",
    "    ]:\n",
    "        df:DataFrame = df[df[1] != 0].dropna().sort_values(1) # type: ignore\n",
    "        df['subject'] = subject\n",
    "\n",
    "        # for every class drop the last 20% of the data\n",
    "        for label in df[1].unique():\n",
    "            data = df[df[1] == label]\n",
    "            SIZE = int((1 - test_size) * len(data))\n",
    "            X, y = data.drop(columns=[1,2]), data[1]\n",
    "\n",
    "            # as it's a time series, i've splited by slices,\n",
    "            # the last 20% of the data for test and the rest for train\n",
    "            train_data.append(X[:SIZE])\n",
    "            test_data.append(X[SIZE:])\n",
    "            train_targets.append(y[:SIZE])\n",
    "            test_targets.append(y[SIZE:])\n",
    "\n",
    "    return concat(train_data), concat(test_data), concat(train_targets), concat(test_targets)"
   ]
  },
  {
   "cell_type": "code",
   "execution_count": 3,
   "metadata": {},
   "outputs": [],
   "source": [
    "def split_data(use_val:bool = False, test_size: float = 0.2) -> tuple[DataFrame | Series, ...]:\n",
    "    X_train, X_test, y_train, y_test = load_data('../data/PAMAP2_Dataset/Protocol/', test_size)\n",
    "    X_valid, y_valid = DataFrame([]), Series([])\n",
    "    print(\"Using validation:\", use_val)\n",
    "\n",
    "    if use_val:\n",
    "        VAL_SIZE = int(test_size * len(X_train))\n",
    "        X_valid, X_train = X_train[:VAL_SIZE], X_train[VAL_SIZE:]\n",
    "        y_valid, y_train = y_train[:VAL_SIZE], y_train[VAL_SIZE:]\n",
    "\n",
    "        X_valid.to_csv('../data/PAMAP2/x_val_data.csv', index=False)\n",
    "        y_valid.to_csv('../data/PAMAP2/y_val_data.csv', index=False)\n",
    "\n",
    "    X_train.to_csv('../data/PAMAP2/x_train_data.csv', index=False)\n",
    "    X_test.to_csv('../data/PAMAP2/x_test_data.csv', index=False)\n",
    "    y_train.to_csv('../data/PAMAP2/y_train_data.csv', index=False)\n",
    "    y_test.to_csv('../data/PAMAP2/y_test_data.csv', index=False)\n",
    "\n",
    "    return X_train, X_test, y_train, y_test\n",
    "    # return (\n",
    "    #     X_train, X_valid, X_test, y_train, y_valid, y_test\n",
    "    #     if use_val\n",
    "    #     else X_train, X_test, y_train, y_test\n",
    "    # )"
   ]
  },
  {
   "cell_type": "code",
   "execution_count": 4,
   "metadata": {},
   "outputs": [
    {
     "name": "stdout",
     "output_type": "stream",
     "text": [
      "reading subject102.dat\n",
      "reading subject104.dat\n",
      "reading subject103.dat\n",
      "reading subject101.dat\n",
      "reading subject105.dat\n",
      "reading subject109.dat\n",
      "reading subject107.dat\n",
      "reading subject108.dat\n",
      "reading subject106.dat\n",
      "Using validation: False\n",
      "Train Shape: (140360, 53)\n",
      "Test Shape: (35138, 53)\n"
     ]
    }
   ],
   "source": [
    "X_train, X_test, y_train, y_test = split_data()\n",
    "print(\"Train Shape:\", X_train.shape)\n",
    "print(\"Test Shape:\", X_test.shape)"
   ]
  }
 ],
 "metadata": {
  "kernelspec": {
   "display_name": "TCC-1-pCv1QtoV",
   "language": "python",
   "name": "python3"
  },
  "language_info": {
   "codemirror_mode": {
    "name": "ipython",
    "version": 3
   },
   "file_extension": ".py",
   "mimetype": "text/x-python",
   "name": "python",
   "nbconvert_exporter": "python",
   "pygments_lexer": "ipython3",
   "version": "3.10.12"
  }
 },
 "nbformat": 4,
 "nbformat_minor": 2
}
