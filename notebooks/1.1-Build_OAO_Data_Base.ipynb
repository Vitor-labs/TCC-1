{
 "cells": [
  {
   "cell_type": "code",
   "execution_count": 3,
   "metadata": {},
   "outputs": [],
   "source": [
    "import os\n",
    "\n",
    "from pandas import DataFrame, concat, read_csv, set_option\n",
    "\n",
    "set_option(\"display.max_columns\", None)"
   ]
  },
  {
   "cell_type": "code",
   "execution_count": 4,
   "metadata": {},
   "outputs": [],
   "source": [
    "def load_data(path: str) -> DataFrame:\n",
    "    data = []\n",
    "\n",
    "    def read_w_log(path: str, filename: str) -> tuple[DataFrame, str]:\n",
    "        print(\"reading\", filename)\n",
    "        return (\n",
    "            read_csv(os.path.join(path, filename), sep=\"\\s+\", header=None),\n",
    "            filename.split(\".\")[0][-2:],\n",
    "        )\n",
    "\n",
    "    for df, subject in [\n",
    "        read_w_log(path, filename)\n",
    "        for filename in os.listdir(path)\n",
    "        if filename.endswith(\".dat\")\n",
    "    ]:\n",
    "        df: DataFrame = df[df[1] != 0].dropna().sort_values(1)\n",
    "        df[\"subject\"] = subject\n",
    "        data.append(df)\n",
    "\n",
    "    return concat(data)"
   ]
  },
  {
   "cell_type": "code",
   "execution_count": 9,
   "metadata": {},
   "outputs": [
    {
     "name": "stdout",
     "output_type": "stream",
     "text": [
      "reading subject101.dat\n",
      "reading subject102.dat\n",
      "reading subject103.dat\n",
      "reading subject104.dat\n",
      "reading subject105.dat\n",
      "reading subject106.dat\n",
      "reading subject107.dat\n",
      "reading subject108.dat\n",
      "reading subject109.dat\n"
     ]
    }
   ],
   "source": [
    "df = load_data(\"../data/PAMAP2_Dataset/Protocol/\").rename(columns={1: \"activity\"})\n",
    "df.to_csv(\"../data/PAMAP2/OAO_data.csv\", index=False)"
   ]
  }
 ],
 "metadata": {
  "kernelspec": {
   "display_name": "TCC-1-UdWnfjK3",
   "language": "python",
   "name": "python3"
  },
  "language_info": {
   "codemirror_mode": {
    "name": "ipython",
    "version": 3
   },
   "file_extension": ".py",
   "mimetype": "text/x-python",
   "name": "python",
   "nbconvert_exporter": "python",
   "pygments_lexer": "ipython3",
   "version": "3.10.10"
  }
 },
 "nbformat": 4,
 "nbformat_minor": 2
}
