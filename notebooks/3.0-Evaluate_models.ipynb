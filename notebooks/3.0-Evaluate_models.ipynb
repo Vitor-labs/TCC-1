{
 "cells": [
  {
   "cell_type": "code",
   "execution_count": 1,
   "metadata": {},
   "outputs": [],
   "source": [
    "import random\n",
    "\n",
    "import numpy as np\n",
    "from pandas import DataFrame, Series, read_csv, concat\n",
    "\n",
    "from sklearn.svm import OneClassSVM\n",
    "from sklearn.metrics import accuracy_score, f1_score, roc_auc_score, precision_recall_curve, auc, make_scorer"
   ]
  },
  {
   "cell_type": "code",
   "execution_count": 2,
   "metadata": {},
   "outputs": [],
   "source": [
    "X_train = read_csv('../data/PAMAP2/x_train_data.csv')\n",
    "X_valid = read_csv('../data/PAMAP2/x_val_data.csv')\n",
    "X_test = read_csv('../data/PAMAP2/x_test_data.csv')\n",
    "y_train = read_csv('../data/PAMAP2/y_train_data.csv')\n",
    "y_valid = read_csv('../data/PAMAP2/y_val_data.csv')\n",
    "y_test = read_csv('../data/PAMAP2/y_test_data.csv')"
   ]
  },
  {
   "cell_type": "code",
   "execution_count": null,
   "metadata": {},
   "outputs": [
    {
     "name": "stdout",
     "output_type": "stream",
     "text": [
      "filtering major classes:  [1, 2, 3, 4, 16, 17]\n"
     ]
    },
    {
     "name": "stderr",
     "output_type": "stream",
     "text": [
      "/tmp/ipykernel_62452/2265417619.py:9: DeprecationWarning: DataFrameGroupBy.apply operated on the grouping columns. This behavior is deprecated, and in a future version of pandas the grouping columns will be excluded from the operation. Either pass `include_groups=False` to exclude the groupings or explicitly select the grouping columns after groupby to silence this warning.\n",
      "  .apply(lambda x: x.sample(n=sample_zize, random_state=42))\n"
     ]
    }
   ],
   "source": [
    "def filter_major_classes(y_classes:list, data: DataFrame, classes: list[int], sample_zize: int=10000):\n",
    "    data['target'] = classes\n",
    "    print('filtering major classes: ', y_classes)\n",
    "    return (\n",
    "        data[\n",
    "            data['target'].isin(y_classes)\n",
    "        ]\n",
    "        .groupby('target')\n",
    "        .apply(lambda x: x.sample(n=sample_zize, random_state=42))\n",
    "        .reset_index(drop=True)\n",
    "    )\n",
    "\n",
    "y_classes: list[int] = [1, 2, 3, 4, 16, 17]\n",
    "\n",
    "data = filter_major_classes(y_classes, X_train, y_train)\n",
    "X_train_balanced, y_train_balanced = data.drop(columns=['target']), data['target']"
   ]
  },
  {
   "cell_type": "code",
   "execution_count": null,
   "metadata": {},
   "outputs": [],
   "source": [
    "model = OneClassSVM(nu=0.01, kernel='rbf', gamma=0.01).fit(X=X_train_balanced)"
   ]
  },
  {
   "cell_type": "code",
   "execution_count": null,
   "metadata": {},
   "outputs": [],
   "source": [
    "def pick_random_classes() -> list[int]:\n",
    "    \"\"\"\n",
    "    Choose between picking 2 or 3 random numbers and Randomly\n",
    "    pick the numbers from the range 5 to 24\n",
    "\n",
    "    Returns:\n",
    "        list[int]: random classes as list\n",
    "    \"\"\"\n",
    "    classes = (5, 6, 7, 17, 12, 16)\n",
    "    return random.sample(population=classes, k=random.choice(seq=[2, 3]))"
   ]
  },
  {
   "cell_type": "code",
   "execution_count": null,
   "metadata": {},
   "outputs": [],
   "source": [
    "def gen_test_samples(X_test, y_test, new_class_percent) -> tuple[DataFrame, Series]:\n",
    "    main_classes = filter_major_classes([1, 2, 3, 4], X_test, y_test, 2000)\n",
    "    new_classes = filter_major_classes(pick_random_classes(), X_test, y_test, 2000)\n",
    "\n",
    "    main_sample = main_classes.sample(n=int(main_classes.shape[0] * (1 - .25)), random_state=42)\n",
    "    new_sample = new_classes.sample(n=int(main_classes.shape[0] * .25), random_state=42)\n",
    "\n",
    "    data_balanced = concat([main_sample, new_sample])\n",
    "\n",
    "    return data_balanced.drop(columns=['target']), data_balanced['target'].apply(lambda x: 0 if x in [1, 2, 3, 4] else 1)"
   ]
  },
  {
   "cell_type": "code",
   "execution_count": null,
   "metadata": {},
   "outputs": [],
   "source": [
    "def evaluate_ocsvm_model(model, X_test, y_test) -> tuple[float, float, float, float]:\n",
    "    \"\"\"\n",
    "    Evaluate a One-Class SVM model using accuracy, PR-AUC, ROC-AUC, and F1 score.\n",
    "    \n",
    "    Parameters:\n",
    "    - model: The trained One-Class SVM model.\n",
    "    - X_test: The test DataFrame.\n",
    "    - y_test: The corresponding labels.\n",
    "    - new_class_percent: Percentage (0 to 1) of 80,000 instances that should come from the new classes.\n",
    "    \n",
    "    Returns:\n",
    "    - Tuple of (accuracy, pr_auc, roc_auc, f1).\n",
    "    \"\"\"\n",
    "    # Convert predictions from {1, -1} to {1 (normal), 0 (novelty)}\n",
    "    predictions = np.where(model.predict(X_test) == 1, 1, 0)\n",
    "    y_true = np.where(y_test, 1, 0)\n",
    "    precision, recall, _ = precision_recall_curve(y_true, predictions)\n",
    "\n",
    "    return (\n",
    "        float(accuracy_score(y_true, predictions)),\n",
    "        float(auc(recall, precision)),\n",
    "        float(roc_auc_score(y_true, predictions)),\n",
    "        float(f1_score(y_true, predictions))\n",
    "    )"
   ]
  },
  {
   "cell_type": "code",
   "execution_count": null,
   "metadata": {},
   "outputs": [
    {
     "name": "stdout",
     "output_type": "stream",
     "text": [
      "filtering major classes:  [1, 2, 3, 4]\n",
      "filtering major classes:  [5, 7]\n"
     ]
    },
    {
     "name": "stderr",
     "output_type": "stream",
     "text": [
      "/tmp/ipykernel_62452/2265417619.py:9: DeprecationWarning: DataFrameGroupBy.apply operated on the grouping columns. This behavior is deprecated, and in a future version of pandas the grouping columns will be excluded from the operation. Either pass `include_groups=False` to exclude the groupings or explicitly select the grouping columns after groupby to silence this warning.\n",
      "  .apply(lambda x: x.sample(n=sample_zize, random_state=42))\n",
      "/tmp/ipykernel_62452/2265417619.py:9: DeprecationWarning: DataFrameGroupBy.apply operated on the grouping columns. This behavior is deprecated, and in a future version of pandas the grouping columns will be excluded from the operation. Either pass `include_groups=False` to exclude the groupings or explicitly select the grouping columns after groupby to silence this warning.\n",
      "  .apply(lambda x: x.sample(n=sample_zize, random_state=42))\n"
     ]
    }
   ],
   "source": [
    "x, y = gen_test_samples(X_test, y_test, 0)\n",
    "values_0 = evaluate_ocsvm_model(model, x, y)"
   ]
  },
  {
   "cell_type": "code",
   "execution_count": null,
   "metadata": {},
   "outputs": [
    {
     "name": "stdout",
     "output_type": "stream",
     "text": [
      "filtering major classes:  [1, 2, 3, 4]\n",
      "filtering major classes:  [7, 12]\n"
     ]
    },
    {
     "name": "stderr",
     "output_type": "stream",
     "text": [
      "/tmp/ipykernel_62452/2265417619.py:9: DeprecationWarning: DataFrameGroupBy.apply operated on the grouping columns. This behavior is deprecated, and in a future version of pandas the grouping columns will be excluded from the operation. Either pass `include_groups=False` to exclude the groupings or explicitly select the grouping columns after groupby to silence this warning.\n",
      "  .apply(lambda x: x.sample(n=sample_zize, random_state=42))\n",
      "/tmp/ipykernel_62452/2265417619.py:9: DeprecationWarning: DataFrameGroupBy.apply operated on the grouping columns. This behavior is deprecated, and in a future version of pandas the grouping columns will be excluded from the operation. Either pass `include_groups=False` to exclude the groupings or explicitly select the grouping columns after groupby to silence this warning.\n",
      "  .apply(lambda x: x.sample(n=sample_zize, random_state=42))\n"
     ]
    }
   ],
   "source": [
    "x, y = gen_test_samples(X_test, y_test, 0.25)\n",
    "values_25 = evaluate_ocsvm_model(model, x, y)"
   ]
  },
  {
   "cell_type": "code",
   "execution_count": null,
   "metadata": {},
   "outputs": [
    {
     "name": "stdout",
     "output_type": "stream",
     "text": [
      "filtering major classes:  [1, 2, 3, 4]\n",
      "filtering major classes:  [6, 12, 17]\n"
     ]
    },
    {
     "name": "stderr",
     "output_type": "stream",
     "text": [
      "/tmp/ipykernel_62452/2265417619.py:9: DeprecationWarning: DataFrameGroupBy.apply operated on the grouping columns. This behavior is deprecated, and in a future version of pandas the grouping columns will be excluded from the operation. Either pass `include_groups=False` to exclude the groupings or explicitly select the grouping columns after groupby to silence this warning.\n",
      "  .apply(lambda x: x.sample(n=sample_zize, random_state=42))\n",
      "/tmp/ipykernel_62452/2265417619.py:9: DeprecationWarning: DataFrameGroupBy.apply operated on the grouping columns. This behavior is deprecated, and in a future version of pandas the grouping columns will be excluded from the operation. Either pass `include_groups=False` to exclude the groupings or explicitly select the grouping columns after groupby to silence this warning.\n",
      "  .apply(lambda x: x.sample(n=sample_zize, random_state=42))\n"
     ]
    }
   ],
   "source": [
    "x, y = gen_test_samples(X_test, y_test, 0.70)\n",
    "values_70 = evaluate_ocsvm_model(model, x, y)"
   ]
  },
  {
   "cell_type": "code",
   "execution_count": null,
   "metadata": {},
   "outputs": [
    {
     "name": "stdout",
     "output_type": "stream",
     "text": [
      "filtering major classes:  [1, 2, 3, 4]\n",
      "filtering major classes:  [17, 6]\n"
     ]
    },
    {
     "name": "stderr",
     "output_type": "stream",
     "text": [
      "/tmp/ipykernel_62452/2265417619.py:9: DeprecationWarning: DataFrameGroupBy.apply operated on the grouping columns. This behavior is deprecated, and in a future version of pandas the grouping columns will be excluded from the operation. Either pass `include_groups=False` to exclude the groupings or explicitly select the grouping columns after groupby to silence this warning.\n",
      "  .apply(lambda x: x.sample(n=sample_zize, random_state=42))\n",
      "/tmp/ipykernel_62452/2265417619.py:9: DeprecationWarning: DataFrameGroupBy.apply operated on the grouping columns. This behavior is deprecated, and in a future version of pandas the grouping columns will be excluded from the operation. Either pass `include_groups=False` to exclude the groupings or explicitly select the grouping columns after groupby to silence this warning.\n",
      "  .apply(lambda x: x.sample(n=sample_zize, random_state=42))\n"
     ]
    }
   ],
   "source": [
    "x, y = gen_test_samples(X_test, y_test, 0.90)\n",
    "values_90 = evaluate_ocsvm_model(model, x, y)"
   ]
  },
  {
   "cell_type": "code",
   "execution_count": null,
   "metadata": {},
   "outputs": [
    {
     "name": "stdout",
     "output_type": "stream",
     "text": [
      "(0.567875, 0.125, 0.3785833333333333, 0.0)\n",
      "(0.567875, 0.125, 0.3785833333333333, 0.0)\n",
      "(0.59875, 0.24378902582159626, 0.4403333333333333, 0.13336933045356372)\n",
      "(0.613875, 0.2948219178082192, 0.4705833333333333, 0.19241830065359478)\n"
     ]
    }
   ],
   "source": [
    "print(values_0)\n",
    "print(values_25)\n",
    "print(values_70)\n",
    "print(values_90)"
   ]
  }
 ],
 "metadata": {
  "kernelspec": {
   "display_name": "TCC-1-pCv1QtoV",
   "language": "python",
   "name": "python3"
  },
  "language_info": {
   "codemirror_mode": {
    "name": "ipython",
    "version": 3
   },
   "file_extension": ".py",
   "mimetype": "text/x-python",
   "name": "python",
   "nbconvert_exporter": "python",
   "pygments_lexer": "ipython3",
   "version": "3.10.12"
  }
 },
 "nbformat": 4,
 "nbformat_minor": 2
}
