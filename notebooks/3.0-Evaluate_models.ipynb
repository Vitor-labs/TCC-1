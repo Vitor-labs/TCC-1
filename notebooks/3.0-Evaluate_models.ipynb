{
 "cells": [
  {
   "cell_type": "code",
   "execution_count": 32,
   "metadata": {},
   "outputs": [],
   "source": [
    "from json import dump\n",
    "from random import sample\n",
    "\n",
    "from numpy import where\n",
    "from pandas import DataFrame, concat, read_csv\n",
    "from sklearn.metrics import (\n",
    "    accuracy_score,\n",
    "    auc,\n",
    "    f1_score,\n",
    "    matthews_corrcoef,\n",
    "    precision_recall_curve,\n",
    "    roc_auc_score,\n",
    ")\n",
    "from sklearn.svm import OneClassSVM\n",
    "\n",
    "RESULTS: dict[str, dict[float, dict[str, float]]] = {\n",
    "    \"Grid Search\": {},\n",
    "    \"Random Search\": {},\n",
    "    \"Bayesian Optimization\": {},\n",
    "}"
   ]
  },
  {
   "cell_type": "code",
   "execution_count": 33,
   "metadata": {},
   "outputs": [],
   "source": [
    "X_train = read_csv(\"../data/PAMAP2/x_train_data.csv\")\n",
    "X_test = read_csv(\"../data/PAMAP2/x_test_data.csv\")\n",
    "y_train = read_csv(\"../data/PAMAP2/y_train_data.csv\")\n",
    "y_test = read_csv(\"../data/PAMAP2/y_test_data.csv\")\n",
    "\n",
    "X_train[\"activity\"] = y_train  # First 80% of the data\n",
    "X_test[\"activity\"] = y_test  # Last 20% of the data"
   ]
  },
  {
   "cell_type": "code",
   "execution_count": 34,
   "metadata": {},
   "outputs": [],
   "source": [
    "def filter_train_test(data: DataFrame) -> tuple[list, DataFrame, DataFrame]:\n",
    "    classes: list[int] = [\n",
    "        num for num in sample(X_train[\"activity\"].value_counts().index.to_list(), 6)\n",
    "    ]\n",
    "    classes.sort()\n",
    "    return (\n",
    "        classes,\n",
    "        data[data[\"activity\"].isin(classes)],\n",
    "        data[~data[\"activity\"].isin(classes)],\n",
    "    )"
   ]
  },
  {
   "cell_type": "code",
   "execution_count": 35,
   "metadata": {},
   "outputs": [],
   "source": [
    "def train_ocsvm_with_pollution(\n",
    "    training: DataFrame,\n",
    "    testing: DataFrame,\n",
    "    params: dict[str, float],\n",
    "    pollution_percent: float,\n",
    ") -> dict[str, float]:\n",
    "    oc_svm = OneClassSVM(kernel=\"rbf\", nu=params[\"nu\"], gamma=params[\"gamma\"]).fit(\n",
    "        training.drop(columns=[\"isNovelty\"])\n",
    "    )\n",
    "    novelty = concat(\n",
    "        [\n",
    "            testing,\n",
    "            training.sample(n=int(pollution_percent * len(training)), random_state=42),\n",
    "        ]\n",
    "    )\n",
    "    preds = where(\n",
    "        oc_svm.predict(novelty.drop(columns=[\"isNovelty\"])) == -1, True, False\n",
    "    )\n",
    "    f1 = f1_score(novelty[\"isNovelty\"], preds)\n",
    "    mcc = matthews_corrcoef(novelty[\"isNovelty\"], preds)\n",
    "    acc = accuracy_score(novelty[\"isNovelty\"], preds)\n",
    "\n",
    "    precision, recall, _ = precision_recall_curve(novelty[\"isNovelty\"], preds)\n",
    "\n",
    "    return {\n",
    "        \"f1\": f1,\n",
    "        \"mcc\": mcc,\n",
    "        \"acc\": acc,\n",
    "        \"pr_auc\": auc(recall, precision),\n",
    "        \"roc_auc\": roc_auc_score(novelty[\"isNovelty\"], preds),\n",
    "    }"
   ]
  },
  {
   "cell_type": "code",
   "execution_count": 36,
   "metadata": {},
   "outputs": [
    {
     "name": "stdout",
     "output_type": "stream",
     "text": [
      "Results for Grid Search:\n",
      "Training with: [1, 2, 5, 7, 16, 17] with 20.0% pollution\n",
      "{'f1': 0.9624018304372024, 'mcc': np.float64(0.7992107406007671), 'acc': 0.9375519972062736, 'pr_auc': np.float64(0.9638151057878853), 'roc_auc': np.float64(0.8446039748378866)} ========================================\n",
      "Results for Grid Search:\n",
      "Training with: [1, 2, 4, 5, 6, 24] with 55.00000000000001% pollution\n",
      "{'f1': 0.9329543842584149, 'mcc': np.float64(0.7886818386443517), 'acc': 0.9040764257342495, 'pr_auc': np.float64(0.9371975604537359), 'roc_auc': np.float64(0.8558281830604354)} ========================================\n",
      "Results for Grid Search:\n",
      "Training with: [5, 6, 7, 13, 16, 17] with 80.0% pollution\n",
      "{'f1': 0.8472473033132792, 'mcc': np.float64(0.6351594546240872), 'acc': 0.799710036656938, 'pr_auc': np.float64(0.8675051882606968), 'roc_auc': np.float64(0.7746702254535782)} ========================================\n"
     ]
    }
   ],
   "source": [
    "for pollution in [0.2, 0.55, 0.8]:\n",
    "    classes, training, testing = filter_train_test(concat([X_train, X_test]))\n",
    "    training.loc[:, \"isNovelty\"], testing.loc[:, \"isNovelty\"] = False, True\n",
    "    print(\n",
    "        f\"Results for Grid Search:\"\n",
    "        f\"\\nTraining with: {classes} with {pollution * 100}% pollution\"\n",
    "    )\n",
    "    result = train_ocsvm_with_pollution(\n",
    "        training, testing, {\"nu\": 0.01, \"gamma\": 0.01}, pollution\n",
    "    )\n",
    "    RESULTS[\"Grid Search\"].update({pollution: result})\n",
    "    print(f\"{result}\", \"=\" * 40)\n",
    "    # print(\n",
    "    #     f\"Results for Random Search:\"\n",
    "    #     f\"\\nTrained with: {classes} with {pollution * 100}% pollution\"\n",
    "    # )\n",
    "    # result = train_ocsvm_with_pollution(\n",
    "    #     training, testing, {\"nu\": 0.01, \"gamma\": 0.01}, pollution\n",
    "    # )\n",
    "    # RESULTS[\"Random Search\"].update({pollution: result})\n",
    "    # print(f\"{result}\", \"=\" * 40)\n",
    "    # print(\n",
    "    #     f\"Results for Bayesian Optimization:\"\n",
    "    #     f\"\\nTrained with: {classes} with {pollution * 100}% pollution\"\n",
    "    # )\n",
    "    # result = train_ocsvm_with_pollution(\n",
    "    #     training, testing, {\"nu\": 0.01, \"gamma\": 0.01}, pollution\n",
    "    # )\n",
    "    # RESULTS[\"Bayesian Optimization\"].update({pollution: result})\n",
    "    # print(f\"{result}\", \"=\" * 40)"
   ]
  },
  {
   "cell_type": "code",
   "execution_count": 38,
   "metadata": {},
   "outputs": [],
   "source": [
    "with open(\"../reports/result_all.json\", \"w\") as fp:\n",
    "    dump(RESULTS, fp)"
   ]
  }
 ],
 "metadata": {
  "kernelspec": {
   "display_name": "TCC-1-pCv1QtoV",
   "language": "python",
   "name": "python3"
  },
  "language_info": {
   "codemirror_mode": {
    "name": "ipython",
    "version": 3
   },
   "file_extension": ".py",
   "mimetype": "text/x-python",
   "name": "python",
   "nbconvert_exporter": "python",
   "pygments_lexer": "ipython3",
   "version": "3.10.10"
  }
 },
 "nbformat": 4,
 "nbformat_minor": 2
}
